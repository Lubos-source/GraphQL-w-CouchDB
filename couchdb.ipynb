{
"nbformat": 4,
"nbformat_minor": 0,
"metadata": {
"kernelspec": {
"display_name": "Python 3",
"language": "python",
"name": "python3"
},
"language_info": {
"codemirror_mode": {
"name": "ipython",
"version": 3
},
"file_extension": ".py",
"mimetype": "text/x-python",
"name": "python",
"nbconvert_exporter": "python",
"pygments_lexer": "ipython3",
"version": "3.7.3"
},
"colab": {
"name": "CouchDb.ipynb",
"provenance": [],
"include_colab_link": true
}
},
"cells": [
{
"cell_type": "markdown",
"metadata": {
"id": "view-in-github",
"colab_type": "text"
},
"source": [
"<a href=\"https://colab.research.google.com/github/hrbolek/learning/blob/master/itsystems/couchdb.ipynb\" target=\"_parent\"><img src=\"https://colab.research.google.com/assets/colab-badge.svg\" alt=\"Open In Colab\"/></a>"
]
},
{
"cell_type": "markdown",
"metadata": {
"id": "nfR6EMQRDE72",
"colab_type": "text"
},
"source": [
"# CouchDb Introduction"
]
},
{
"cell_type": "code",
"metadata": {
"id": "Oqc7RE_aDE7-",
"colab_type": "code",
"colab": {},
"outputId": "565a4ecb-40f4-4058-c51f-0e9c120d2dac"
},
"source": [
"import urllib.request, json \n",
"from urllib.parse import urlencode\n",
"from base64 import b64encode\n",
"import getpass\n",
"from platform import python_version\n",
"\n",
"print(python_version())\n",
"serverAddress = 'http://192.168.1.5:5984/'\n",
"userName = input('Uživatel\\t:')\n",
"password = getpass.getpass('Heslo\\t:')"
],
"execution_count": 0,
"outputs": [
{
"output_type": "stream",
"text": [
"Uživatel\t:admin\n",
"Heslo\t:········\n"
],
"name": "stdout"
}
]
},
{
"cell_type": "markdown",
"metadata": {
"id": "qdkKj-xsDE8U",
"colab_type": "text"
},
"source": [
"## Základní metody pro práci s databází\n",
"```python\n",
"couchDbLogin   #přihlášení k databázi\n",
"```\n",
"```python\n",
"couchDbAPICall #volání api\n",
"```\n",
"Pro autentizaci čtěte:\n",
"https://docs.couchdb.org/en/stable/api/server/authn.html#api-auth-session"
]
},
{
"cell_type": "code",
"metadata": {
"id": "UbXczEhmDE8X",
"colab_type": "code",
"colab": {},
"outputId": "8a3b1625-f1ad-48e2-87fb-f853f1b9fac1"
},
"source": [
"def printJson(jsondata):\n",
"    result = json.dumps(jsondata, indent=4)\n",
"    print(result)\n",
"    #return result\n",
"\n",
"cookie = ''    \n",
"def couchDbLogin(user = userName, password = password):\n",
"    global cookie\n",
"\n",
"    url = serverAddress + '_session'\n",
"    data = {'username' : user, 'password': password}\n",
"\n",
"    data = urllib.parse.urlencode(data).encode()\n",
"    request = urllib.request.Request(url, data = data, method = 'POST')\n",
"    response = urllib.request.urlopen(request)\n",
"    cookie = response.headers['Set-Cookie']\n",
"    cookie = cookie.split(';')[0]\n",
"\n",
"    result = response.read()\n",
"    #result = response.read().decode('utf8')\n",
"    return result\n",
"    \n",
"def couchDbAPICall(location, method = 'GET', data = None):\n",
"    global cookie\n",
"    url = serverAddress + location\n",
"    encdata = None\n",
"    if not(data == None):\n",
"        encdata = json.dumps(data).encode('utf8')\n",
"        print(encdata)\n",
"    request = urllib.request.Request(url, data = encdata, method = method)\n",
"    request.add_header('Cookie', cookie)   \n",
"    result = '{}'\n",
"    print(request)\n",
"\n",
"    if not(data == None):\n",
"        request.add_header('Content-Type', 'application/json')   \n",
"    try:\n",
"        response = urllib.request.urlopen(request)\n",
"        result = response.read()\n",
"    except urllib.error.HTTPError as err:\n",
"        print(err)\n",
"        print(err.reason)\n",
"        print(err.headers)\n",
"        result = err.read()\n",
"        #response = err.response\n",
"    \n",
"    #result = response.read().decode('utf8')\n",
"    return json.loads(result)\n",
"\n",
"couchDbLogin()\n",
"printJson(couchDbAPICall(location = ''))"
],
"execution_count": 0,
"outputs": [
{
"output_type": "stream",
"text": [
"<urllib.request.Request object at 0x7fc8f80d9080>\n",
"{\n",
"    \"couchdb\": \"Welcome\",\n",
"    \"version\": \"2.3.1\",\n",
"    \"git_sha\": \"c298091a4\",\n",
"    \"uuid\": \"d2b27244ee0c9a7d5b10785985989c9a\",\n",
"    \"features\": [\n",
"        \"pluggable-storage-engines\",\n",
"        \"scheduler\"\n",
"    ],\n",
"    \"vendor\": {\n",
"        \"name\": \"The Apache Software Foundation\"\n",
"    }\n",
"}\n"
],
"name": "stdout"
}
]
},
{
"cell_type": "markdown",
"metadata": {
"id": "W5-mU420DE8k",
"colab_type": "text"
},
"source": [
"## Získání prvotních informací z databáze (metadata)"
]
},
{
"cell_type": "code",
"metadata": {
"id": "_Jz5dRDjDE8o",
"colab_type": "code",
"colab": {},
"outputId": "a425b7a7-2117-44b2-bcfb-1574095c7a17"
},
"source": [
"data = couchDbAPICall('_session', 'GET')\n",
"print('_session')\n",
"printJson(data)\n",
"dbs = couchDbAPICall('_all_dbs', 'GET')\n",
"print('_all_dbs')\n",
"printJson(dbs)\n"
],
"execution_count": 0,
"outputs": [
{
"output_type": "stream",
"text": [
"_session\n",
"{\n",
"    \"ok\": true,\n",
"    \"userCtx\": {\n",
"        \"name\": null,\n",
"        \"roles\": []\n",
"    },\n",
"    \"info\": {\n",
"        \"authentication_db\": \"_users\",\n",
"        \"authentication_handlers\": [\n",
"            \"cookie\",\n",
"            \"default\"\n",
"        ]\n",
"    }\n",
"}\n",
"_all_dbs\n",
"[\n",
"    \"_global_changes\",\n",
"    \"_replicator\",\n",
"    \"_users\"\n",
"]\n"
],
"name": "stdout"
}
]
},
{
"cell_type": "code",
"metadata": {
"id": "57gkWfF2DE80",
"colab_type": "code",
"colab": {}
},
"source": [
"## Vytvoření databáze"
],
"execution_count": 0,
"outputs": []
},
{
"cell_type": "code",
"metadata": {
"id": "jMvQDvOTDE9C",
"colab_type": "code",
"colab": {},
"outputId": "254aafc8-5734-4155-969c-f8b44eee5c53"
},
"source": [
"dbs = couchDbAPICall('my_db', 'PUT')   #curl -X PUT http://servername:5984/my_db\n",
"print('Created database')\n",
"printJson(dbs)\n",
"dbs = couchDbAPICall('_all_dbs', 'GET')#curl -X GET http://servername:5984/_all_dbs\n",
"print('_all_dbs')\n",
"printJson(dbs)\n",
"dbs = couchDbAPICall('my_db', 'GET')   #curl -X GET http://servername:5984/next_db\n",
"print('Retrieve info about database')\n",
"printJson(dbs)\n",
"dbs = couchDbAPICall('my_db', 'DELETE')#curl -X DELETE http://servername:5984/my_db\n",
"print('Delete database')\n",
"printJson(dbs)\n",
"dbs = couchDbAPICall('_all_dbs', 'GET')#curl -X GET http://servername:5984/_all_dbs\n",
"print('_all_dbs')\n",
"printJson(dbs)\n"
],
"execution_count": 0,
"outputs": [
{
"output_type": "stream",
"text": [
"Created database\n",
"{\n",
"    \"ok\": true\n",
"}\n",
"_all_dbs\n",
"[\n",
"    \"_global_changes\",\n",
"    \"_replicator\",\n",
"    \"_users\",\n",
"    \"my_db\"\n",
"]\n",
"Retrieve info about database\n",
"{\n",
"    \"db_name\": \"my_db\",\n",
"    \"purge_seq\": \"0-g1AAAAEzeJzLYWBg4MhgTmHgzcvPy09JdcjLz8gvLskBCjPlsQBJhgNA6v____ezEhnwqmuAqJuPW12SA5BMigcqwqMmAaSmHq8aiH0LIPbtJ6TuAUQdPjsVQHba41WTyJAkD1GQBQC-sGL2\",\n",
"    \"update_seq\": \"0-g1AAAAEzeJzLYWBg4MhgTmHgzcvPy09JdcjLz8gvLskBCjMlMiTJ____PyuRAYeCJAUgmWSPX40DSE08fjUJIDX1eNXksQBJhgYgBVQ2n5C6BRB1-wmpOwBRd5-QugcQdSD3ZQEAiJJi9g\",\n",
"    \"sizes\": {\n",
"        \"file\": 33960,\n",
"        \"external\": 0,\n",
"        \"active\": 0\n",
"    },\n",
"    \"other\": {\n",
"        \"data_size\": 0\n",
"    },\n",
"    \"doc_del_count\": 0,\n",
"    \"doc_count\": 0,\n",
"    \"disk_size\": 33960,\n",
"    \"disk_format_version\": 7,\n",
"    \"data_size\": 0,\n",
"    \"compact_running\": false,\n",
"    \"cluster\": {\n",
"        \"q\": 8,\n",
"        \"n\": 1,\n",
"        \"w\": 1,\n",
"        \"r\": 1\n",
"    },\n",
"    \"instance_start_time\": \"0\"\n",
"}\n",
"Delete database\n",
"{\n",
"    \"ok\": true\n",
"}\n",
"_all_dbs\n",
"[\n",
"    \"_global_changes\",\n",
"    \"_replicator\",\n",
"    \"_users\"\n",
"]\n"
],
"name": "stdout"
}
]
},
{
"cell_type": "markdown",
"metadata": {
"id": "4GwEnskyDE9N",
"colab_type": "text"
},
"source": [
"## Nový dokument v databázi"
]
},
{
"cell_type": "markdown",
"metadata": {
"id": "N23WpeqVDE9R",
"colab_type": "text"
},
"source": [
"### Vytvoření databáze pro experimenty"
]
},
{
"cell_type": "code",
"metadata": {
"id": "046y1I6pDE9T",
"colab_type": "code",
"colab": {},
"outputId": "73d02889-f6e7-4d8c-ea38-5d1600667644"
},
"source": [
"dbs = couchDbAPICall('data', 'PUT')\n",
"printJson(dbs)"
],
"execution_count": 0,
"outputs": [
{
"output_type": "stream",
"text": [
"{\n",
"    \"ok\": true\n",
"}\n"
],
"name": "stdout"
}
]
},
{
"cell_type": "markdown",
"metadata": {
"id": "HuqZucG2DE9j",
"colab_type": "text"
},
"source": [
"### Vložení dokumentu"
]
},
{
"cell_type": "code",
"metadata": {
"id": "vbJDhk0ODE9m",
"colab_type": "code",
"colab": {},
"outputId": "a8714e5e-dc28-4c16-ea21-e7b498f19826"
},
"source": [
"dokument = {'data': 'informace', 'cislo': 35}\n",
"docresult = couchDbAPICall('data', 'POST', dokument)\n",
"print('result')\n",
"printJson(docresult)"
],
"execution_count": 0,
"outputs": [
{
"output_type": "stream",
"text": [
"b'{\"data\": \"informace\", \"cislo\": 35}'\n",
"<urllib.request.Request object at 0x7fc8f812dd68>\n",
"result\n",
"{\n",
"    \"ok\": true,\n",
"    \"id\": \"c624cce012e5f4e43856479ad9005249\",\n",
"    \"rev\": \"1-6a6fa57308075e2a9329f9aa09a19be6\"\n",
"}\n"
],
"name": "stdout"
}
]
},
{
"cell_type": "markdown",
"metadata": {
"id": "DCVG8DlaDE9y",
"colab_type": "text"
},
"source": [
"### Zpřístupnění vloženého dokumentu"
]
},
{
"cell_type": "code",
"metadata": {
"id": "XnWAuc7ODE93",
"colab_type": "code",
"colab": {},
"outputId": "216e66ca-3773-415e-a8e8-b1703b508aa0"
},
"source": [
"docid = docresult['id']\n",
"dbs = couchDbAPICall('data/' + docid, 'GET')\n",
"print('result')\n",
"printJson(dbs)"
],
"execution_count": 0,
"outputs": [
{
"output_type": "stream",
"text": [
"<urllib.request.Request object at 0x7fc8f812d400>\n",
"result\n",
"{\n",
"    \"_id\": \"c624cce012e5f4e43856479ad9005249\",\n",
"    \"_rev\": \"1-6a6fa57308075e2a9329f9aa09a19be6\",\n",
"    \"data\": \"informace\",\n",
"    \"cislo\": 35\n",
"}\n"
],
"name": "stdout"
}
]
},
{
"cell_type": "markdown",
"metadata": {
"id": "Y7UQjKMSDE-E",
"colab_type": "text"
},
"source": [
"### Seznam všech dokumentů v tabulce"
]
},
{
"cell_type": "code",
"metadata": {
"id": "s9d1Vf6oDE-K",
"colab_type": "code",
"colab": {},
"outputId": "4aa3ccf4-4456-4f74-cfe2-82fb2a18c492"
},
"source": [
"view = couchDbAPICall('data/_all_docs', 'GET')\n",
"print('result')\n",
"printJson(view)"
],
"execution_count": 0,
"outputs": [
{
"output_type": "stream",
"text": [
"<urllib.request.Request object at 0x7fc8f812de48>\n",
"result\n",
"{\n",
"    \"total_rows\": 3,\n",
"    \"offset\": 0,\n",
"    \"rows\": [\n",
"        {\n",
"            \"id\": \"c624cce012e5f4e43856479ad9002ce9\",\n",
"            \"key\": \"c624cce012e5f4e43856479ad9002ce9\",\n",
"            \"value\": {\n",
"                \"rev\": \"1-6a6fa57308075e2a9329f9aa09a19be6\"\n",
"            }\n",
"        },\n",
"        {\n",
"            \"id\": \"c624cce012e5f4e43856479ad9003c92\",\n",
"            \"key\": \"c624cce012e5f4e43856479ad9003c92\",\n",
"            \"value\": {\n",
"                \"rev\": \"1-6a6fa57308075e2a9329f9aa09a19be6\"\n",
"            }\n",
"        },\n",
"        {\n",
"            \"id\": \"c624cce012e5f4e43856479ad9005249\",\n",
"            \"key\": \"c624cce012e5f4e43856479ad9005249\",\n",
"            \"value\": {\n",
"                \"rev\": \"1-6a6fa57308075e2a9329f9aa09a19be6\"\n",
"            }\n",
"        }\n",
"    ]\n",
"}\n"
],
"name": "stdout"
}
]
},
{
"cell_type": "code",
"metadata": {
"id": "FJNk3e46DE-W",
"colab_type": "code",
"colab": {},
"outputId": "71b3f8d4-6d2b-4852-a829-836ed9e077a5"
},
"source": [
"query = {'map' : 'function(doc){emit(doc.cislo)}'}\n",
"view = couchDbAPICall('data/_temp_view', 'POST', query)\n",
"print('result')\n",
"printJson(view)"
],
"execution_count": 0,
"outputs": [
{
"output_type": "stream",
"text": [
"b'{\"map\": \"function(doc){emit(doc.cislo)}\"}'\n",
"<urllib.request.Request object at 0x7fc8f812d748>\n",
"HTTP Error 410: Gone\n",
"Gone\n",
"Cache-Control: must-revalidate\n",
"Connection: close\n",
"Content-Length: 73\n",
"Content-Type: application/json\n",
"Date: Thu, 26 Dec 2019 20:55:38 GMT\n",
"Server: CouchDB/2.3.1 (Erlang OTP/19)\n",
"Set-Cookie: AuthSession=YWRtaW46NUUwNTFFNEE6XmT4IgtMhEDthD5vAevU-ijdwTk; Version=1; Expires=Thu, 26-Dec-2019 21:05:38 GMT; Max-Age=600; Path=/; HttpOnly\n",
"X-Couch-Request-ID: 5243361bd5\n",
"X-CouchDB-Body-Time: 0\n",
"\n",
"\n",
"result\n",
"{\n",
"    \"error\": \"gone\",\n",
"    \"reason\": \"Temporary views are not supported in CouchDB\"\n",
"}\n"
],
"name": "stdout"
}
]
},
{
"cell_type": "markdown",
"metadata": {
"id": "Mp8JBNxuDE-o",
"colab_type": "text"
},
"source": [
"### Odstranění databáze"
]
},
{
"cell_type": "code",
"metadata": {
"id": "zSDrZCCYDE-r",
"colab_type": "code",
"colab": {},
"outputId": "af74632a-6243-4cf1-be4f-56ce932ee71b"
},
"source": [
"dbs = couchDbAPICall('data', 'DELETE')\n",
"printJson(dbs)"
],
"execution_count": 0,
"outputs": [
{
"output_type": "stream",
"text": [
"{\n",
"    \"ok\": true\n",
"}\n"
],
"name": "stdout"
}
]
},
{
"cell_type": "code",
"metadata": {
"id": "PrNr2YKcDE-5",
"colab_type": "code",
"colab": {}
},
"source": [
""
],
"execution_count": 0,
"outputs": []
}
]
}