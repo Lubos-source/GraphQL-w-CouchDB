{
 "cells": [
  {
   "cell_type": "markdown",
   "id": "written-brain",
   "metadata": {},
   "source": [
    "# CouchDB CRUD operace prostřednictvím GraphQL"
   ]
  },
  {
   "cell_type": "markdown",
   "id": "vanilla-trouble",
   "metadata": {},
   "source": [
    "## Problémy v projektu"
   ]
  },
  {
   "cell_type": "markdown",
   "id": "leading-retirement",
   "metadata": {},
   "source": [
    "  ### Nefunkční soubor run.bat"
   ]
  },
  {
   "cell_type": "markdown",
   "id": "spare-procedure",
   "metadata": {},
   "source": [
    "Při spuštění souboru run.bat nastala chyba v prostředí Dockeru, konkrétně v oblasti import module 'couchdb', ale při lokálním spuštění proběhlo vše \n",
    "bez problémů. Domnívali jsme se, že je zřejmě chyba v requirements.\n",
    "\n",
    "<b>Řešení:</b>\n",
    "\n",
    "V requirements jsme se snažili nainstalovat dvě knihovny a to knihovnu CouchBase a CouchDB, které spolu však nespolupracují. Odstraněním knihovny CouchBase byl problém vyřešen.\n"
   ]
  },
  {
   "cell_type": "markdown",
   "id": "compressed-checkout",
   "metadata": {},
   "source": [
    "### Chyba načítaní schémat v GQL"
   ]
  },
  {
   "cell_type": "markdown",
   "id": "loose-reminder",
   "metadata": {},
   "source": [
    "Při načítání schémat v GQL nastala chyba.\n",
    "\n",
    "\n",
    "<b>Řešení:</b>\n",
    "\n",
    "Vyřešeno vytvořením nových schémat, modelů, queries a resloverů.\n"
   ]
  },
  {
   "cell_type": "markdown",
   "id": "mobile-particle",
   "metadata": {},
   "source": [
    "### UpdateUser chyba"
   ]
  },
  {
   "cell_type": "markdown",
   "id": "local-establishment",
   "metadata": {},
   "source": [
    "<b>Řešení:</b>"
   ]
  },
  {
   "cell_type": "code",
   "execution_count": null,
   "id": "positive-saint",
   "metadata": {},
   "outputs": [],
   "source": []
  }
 ],
 "metadata": {
  "kernelspec": {
   "display_name": "",
   "name": ""
  },
  "language_info": {
   "name": ""
  }
 },
 "nbformat": 4,
 "nbformat_minor": 5
}
