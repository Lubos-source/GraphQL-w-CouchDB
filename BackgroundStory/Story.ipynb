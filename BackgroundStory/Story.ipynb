{
 "cells": [
  {
   "cell_type": "markdown",
   "id": "written-brain",
   "metadata": {},
   "source": [
    "# CouchDB CRUD operace prostřednictvím GraphQL"
   ]
  },
  {
   "cell_type": "markdown",
   "id": "vanilla-trouble",
   "metadata": {},
   "source": [
    "## Problémy v projektu"
   ]
  },
  {
   "cell_type": "markdown",
   "id": "leading-retirement",
   "metadata": {},
   "source": [
    "  ### Nefunkční soubor run.bat"
   ]
  },
  {
   "cell_type": "markdown",
   "id": "spare-procedure",
   "metadata": {},
   "source": [
    "Při spuštění souboru run.bat nastala chyba v prostředí Dockeru, konkrétně v oblasti import module 'couchdb', ale při lokálním spuštění proběhlo vše \n",
    "bez problémů. Domnívali jsme se, že je zřejmě chyba v requirements.\n",
    "\n",
    "<b>Řešení:</b>\n",
    "\n",
    "Z důvodu prvotního rozhodování, kterou z knihoven spolupracující s couchDB databází použijeme jsme v requirements měli vloženo více knihoven.\n",
    "Konkrétně jsme se v requirements snažili nainstalovat dvě knihovny a to knihovnu CouchBase a CouchDB, které spolu však nespolupracují. Odstraněním knihovny CouchBase, kterou jsme se rozhodli v projektu nepoužít, byl problém vyřešen.\n",
    "Nadále v projektu používáme knihovnu couchdb. Celý projekt by šel také vyřešit bez knihoven pouze pomocí HTTP požadavků.\n"
   ]
  },
  {
   "cell_type": "markdown",
   "id": "compressed-checkout",
   "metadata": {},
   "source": [
    "### Chyba načítaní schémat v GQL"
   ]
  },
  {
   "cell_type": "markdown",
   "id": "loose-reminder",
   "metadata": {},
   "source": [
    "Při načítání schémat v GQL nastala neznámá chyba -> GRAPHQL vrací při většině chyb pouze \"NonTypeError\", kde nám tahle nic neříkající nápověda moc nepomůže.\n",
    "\n",
    "\n",
    "<b>Řešení:</b>\n",
    "\n",
    "V průběhu tvorby projektu a získávání nových znalostí a zkušeností s GQL jsme začali využívat vlastního debugování po řádcích, pomocí funkce print. Díky tomuhle banálnímu řešení jsme nalezli na jakém řádku nám program skončil a vznikla chyba.\n",
    "\n",
    "V první fázi pojektu byla \"NonTypeError\" chyba nejčastěji způsobena chybným parsováním vrácených dat do očekávaného návratového GQL modelu. Vyřešeno vytvořením nových schémat, modelů, queries a resloverů.\n",
    "\n",
    "V aktuální a finální verzi projektu se nemusíme zabývat parsováním dokumnetů pomocí použití funkce db.get() a správné definice resolverů.\n"
   ]
  },
  {
   "cell_type": "markdown",
   "id": "mobile-particle",
   "metadata": {},
   "source": [
    "### UpdateUser chyba"
   ]
  },
  {
   "cell_type": "markdown",
   "id": "dd3e34bf",
   "metadata": {},
   "source": [
    "Pokud zavoláme CRUD operaci update user. Může nastat chyba při nenalezení požadovaného usera na update."
   ]
  },
  {
   "cell_type": "markdown",
   "id": "local-establishment",
   "metadata": {},
   "source": [
    "<b>Řešení:</b>"
   ]
  },
  {
   "cell_type": "markdown",
   "id": "positive-saint",
   "metadata": {},
   "source": [
    "Pokud nenalezneme ID usera, tak máme více možností. Buď usera vytvoříme a nebo vrátíme chybovou hlášku, že user neexistuje a proto nemůže být updatován."
   ]
  },
  {
   "cell_type": "markdown",
   "id": "7e9ea757",
   "metadata": {},
   "source": [
    "### CRUD delete "
   ]
  },
  {
   "cell_type": "markdown",
   "id": "cac99957",
   "metadata": {},
   "source": [
    "Při použití funkce db.delete(document) se dokument z databáze odstraní pouze částečně.\n",
    "\n",
    "Pokud se podíváme na velikost databáze, tak ta se po zavolání delete funkce nezmění i když by měla.\n",
    "\n",
    "<br/>\n",
    "<b>Řešení:</b>\n",
    "\n",
    "Funkce delete prvek odstraní, ale ponechá jeho historii v databázi, v případě potřeby se můžeme podívat, které dokumenty byli odstraněny.\n",
    "\n",
    "Pro kompletní delte z databáze bez ponechání historie je potřeba použít funkci db.purge(document)."
   ]
  },
  {
   "cell_type": "markdown",
   "id": "67522fbd",
   "metadata": {},
   "source": [
    "### Změna složité funkce find_first()"
   ]
  },
  {
   "cell_type": "markdown",
   "id": "8e86ae6d",
   "metadata": {},
   "source": [
    "Při prvotní tvorbě projektu jsme si vytvořili funkci, která měla za úkol najít první prvek z databáze podle zadaného _id dokumentu.\n",
    "\n",
    "V průběhu tvorby projektu se nám nabaloval problém s vyhledáním ´dalšího prvku v prvku... např. *User*, který má v sobě *groups* a ty v sobě mají *members* proto jsme začali větvit naši funkci, kde se kontrolovali podmínky zda se v daném prvku neobjevuje prvek, který by obsahoval další prvky. Tím se nám funkce roztáhla na více jak 200 řádků a začínala být nepřehledná.\n",
    "\n",
    "<br/>\n",
    "<b>Řešení:</b>\n",
    "\n",
    "Po odprezentování Beta verze jsme zjistili, že máme chybu v resolverech. Ty by měli být mezi sebou propojeny a pokud očekáváme pod jednou položkou jiný prvek, tak právě definovány v resolveru.\n",
    "\n",
    "Při předělávání resolverů a celkově struktury našeho projektu, aby zapadl do měřícího mechanismu jsme začali využívat funkci db.get(), která nám vrátí požadovaný prvek z databáze doplněný o  < Dokument ... { obsah vyhledávaného prvku } >, kterého jsme se potřebovali zbavit. Po náhodném vyzkoušení funkce copy(), která se používá při kopírování dictionaries, jsme zjistili, že funkce copy() zajistí zbavení se právě námi nepožadovaného doplňku < Document >.\n",
    "\n",
    "Proto nadále v projektu můžeme používat vestavěnou funkci db.get() na místo námi složité definované find_first."
   ]
  },
  {
   "cell_type": "markdown",
   "id": "5300314f",
   "metadata": {},
   "source": [
    "### Relations mezi tabulkami"
   ]
  },
  {
   "cell_type": "markdown",
   "id": "8890ffb3",
   "metadata": {},
   "source": [
    "CouchDB je dokumnetová databáze. Její výhodou je, že nemá striktně definováno co do databáze můžete uložit, tedy každý prvek může mít jinou strukturu.\n",
    "\n",
    "Díky téhle vlastnosti jsme do každého dokumentu doplnili pole \"type\" ve kterém jsme určili jakého typu je daný dokument. Téhle vlastnosti využíváme při vyhledávání jen určitého typu dokumnetů.\n",
    "\n",
    "Dále je v dokumentové databázi horší definovat relace mezi dokumenty.\n",
    "<br/>\n",
    "\n",
    "<b>Řešení:</b>\n",
    "\n",
    "Do dokumentu, kde byli potřebné relace jsme vložili prvek, který obsahoval [ { groupID, groupRoleID } ] Při vyhledávání prvku jsme se podívali do tohohle řádku a zjistili relace, které jsme dále podle id vyhledali v databázi.\n",
    "<br/>\n",
    "\n",
    "<b>Řešení po Beta -> Finální aplikace</b>\n",
    "\n",
    "Po překopání projektu jsme zvolili úplně jiný způsob, abychom splňovali požadované funkcionality na měření.\n",
    "\n",
    "Do databáze jsme začali ukládat speciální dokumenty, které určovali relace. V každém \"relace\" dokumentu se nachází { \"_idRelace\", \"users_id\", \"groups_id\", \"roleType_id\", \"type\":\"relation\" } v takové ralaci vyčteme jaký uživatel má jakou roli v jaké skupině.\n",
    "\n",
    "Typy rolí a typy skupin jsou určeny napevno stanovenými hodnotami podle požadavků na projekt.\n",
    "Ale není problém si vytvořit vlastní roli nebo vlastní typ skupiny.\n"
   ]
  },
  {
   "cell_type": "markdown",
   "id": "1949f0ae",
   "metadata": {},
   "source": [
    "### Create Relation"
   ]
  },
  {
   "cell_type": "markdown",
   "id": "f605d081",
   "metadata": {},
   "source": [
    "Při vytváření nových relací. Tedy přidávání usera do skupiny a přiřazování mu role. Potřebujeme vytvořit podmínky pro kontrolu, zda už stejná relace (role usera ve skupině) neexistuje. V případě, že existuje vrátíme prvek téhlé relace. Každý user může být ve více skupinách a může mít více rolí."
   ]
  }
 ],
 "metadata": {
  "kernelspec": {
   "display_name": "",
   "name": ""
  },
  "language_info": {
   "name": ""
  }
 },
 "nbformat": 4,
 "nbformat_minor": 5
}
